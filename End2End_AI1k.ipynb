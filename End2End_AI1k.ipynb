{
 "cells": [
  {
   "cell_type": "code",
   "execution_count": 1,
   "metadata": {},
   "outputs": [
    {
     "name": "stdout",
     "output_type": "stream",
     "text": [
      "num_batches: 68\n"
     ]
    },
    {
     "name": "stderr",
     "output_type": "stream",
     "text": [
      "Processing images: 100%|██████████| 68/68 [00:31<00:00,  2.14batch/s]"
     ]
    },
    {
     "name": "stdout",
     "output_type": "stream",
     "text": [
      "(1080,)\n"
     ]
    },
    {
     "name": "stderr",
     "output_type": "stream",
     "text": [
      "\n"
     ]
    }
   ],
   "source": [
    "import os\n",
    "import pandas as pd\n",
    "from sklearn.model_selection import train_test_split, ShuffleSplit, ShuffleSplit\n",
    "import numpy as np\n",
    "import csv\n",
    "import torch\n",
    "import clip\n",
    "from PIL import Image\n",
    "from sklearn.metrics import pairwise_distances\n",
    "from tqdm import tqdm  # Import tqdm for progress tracking\n",
    "\n",
    "def prepare_clip_features(batch_size=16):\n",
    "    device = \"cuda\" if torch.cuda.is_available() else \"cpu\"\n",
    "\n",
    "    model, preprocess = clip.load(\"ViT-L/14\", device=device)\n",
    "\n",
    "    csv_filepath = \"/home/dank/sethust/fil/AIGC/AIGI/AI-1k/AIGC_MOS_Zscore_full.csv\" #for prompts\n",
    "    image_dir = \"/home/dank/sethust/fil/AIGC/AIGI/AI-1k/images\" #for images\n",
    "    data_dir = 'test_AI1k'\n",
    "\n",
    "    if not os.path.exists(data_dir):\n",
    "        os.makedirs(data_dir)\n",
    "\n",
    "    image_filenames = []\n",
    "    prompts = []\n",
    "\n",
    "    with open(csv_filepath, newline='') as csvfile:\n",
    "        csvreader = csv.reader(csvfile, delimiter=',')\n",
    "        next(csvreader)  # Skip header row\n",
    "        for row in csvreader:\n",
    "            image_filenames.append(os.path.join(image_dir, row[0]))\n",
    "            prompts.append(row[1])\n",
    "\n",
    "    # Preprocess images and tokenize prompts\n",
    "    num_images = len(image_filenames)\n",
    "    num_batches = (num_images + batch_size - 1) // batch_size  # Calculate the number of batches\n",
    "    all_image_features = []\n",
    "    all_text_features = []\n",
    "\n",
    "    print(f\"num_batches: {num_batches}\")\n",
    "    for i in tqdm(range(num_batches), desc=\"Processing images\", unit=\"batch\"):\n",
    "        start_idx = i * batch_size\n",
    "        end_idx = min((i + 1) * batch_size, num_images)\n",
    "\n",
    "        # Load and preprocess images for the current batch\n",
    "        batch_images = torch.stack([preprocess(Image.open(image_filename)).to(device) \n",
    "                                    for image_filename in image_filenames[start_idx:end_idx]])\n",
    "\n",
    "        # Tokenize prompts for the current batch\n",
    "        batch_prompts = prompts[start_idx:end_idx]\n",
    "        batch_texts = clip.tokenize(batch_prompts).to(device)\n",
    "        \n",
    "        # Compute image and text features for the current batch\n",
    "        with torch.no_grad():\n",
    "            batch_image_features = model.encode_image(batch_images)\n",
    "            batch_text_features = model.encode_text(batch_texts)\n",
    "\n",
    "        all_image_features.append(batch_image_features)\n",
    "        all_text_features.append(batch_text_features)\n",
    "\n",
    "    # Concatenate features from all batches\n",
    "    image_features = torch.cat(all_image_features)\n",
    "    text_features = torch.cat(all_text_features)\n",
    "\n",
    "    # Save features to files\n",
    "    np.save(os.path.join(data_dir, 'all_clip_image_features.npy'), image_features.cpu().numpy())\n",
    "    np.save(os.path.join(data_dir, 'all_clip_text_features.npy'), text_features.cpu().numpy())\n",
    "\n",
    "    # Normalize features\n",
    "    image_features /= image_features.norm(dim=-1, keepdim=True)\n",
    "    text_features /= text_features.norm(dim=-1, keepdim=True)\n",
    "\n",
    "    # Compute similarity\n",
    "    similarity = (image_features * text_features).sum(dim=-1).cpu().numpy()\n",
    "    np.save(os.path.join(data_dir, 'all_similarity.npy'), similarity)\n",
    "\n",
    "    print(similarity.shape)\n",
    "\n",
    "prepare_clip_features(batch_size=16)  \n"
   ]
  },
  {
   "cell_type": "code",
   "execution_count": 8,
   "metadata": {},
   "outputs": [
    {
     "name": "stdout",
     "output_type": "stream",
     "text": [
      "(1080, 768)\n",
      "(1080, 768)\n",
      "(1080, 768)\n"
     ]
    }
   ],
   "source": [
    "import numpy as np\n",
    "\n",
    "# Load the .npy file\n",
    "image_feature = np.load('/home/dank/sethust/fil/AIGC/AIGI/test_AI1k/all_clip_image_features.npy')\n",
    "text_feature = np.load('/home/dank/sethust/fil/AIGC/AIGI/test_AI1k/all_clip_text_features.npy')\n",
    "similarity = np.load('/home/dank/sethust/fil/AIGC/AIGI/test_AI1k/all_similarity.npy')\n",
    "\n",
    "print(image_feature.shape)\n",
    "print(text_feature.shape)\n",
    "print(similarity.shape)"
   ]
  }
 ],
 "metadata": {
  "kernelspec": {
   "display_name": "aigi",
   "language": "python",
   "name": "python3"
  },
  "language_info": {
   "codemirror_mode": {
    "name": "ipython",
    "version": 3
   },
   "file_extension": ".py",
   "mimetype": "text/x-python",
   "name": "python",
   "nbconvert_exporter": "python",
   "pygments_lexer": "ipython3",
   "version": "3.12.2"
  }
 },
 "nbformat": 4,
 "nbformat_minor": 2
}
