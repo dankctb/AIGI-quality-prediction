{
 "cells": [
  {
   "cell_type": "code",
   "execution_count": null,
   "id": "f93d56a4-8a3d-4622-9c4e-9b22d4732ba6",
   "metadata": {},
   "outputs": [],
   "source": []
  },
  {
   "cell_type": "code",
   "execution_count": null,
   "id": "c9391470-724e-4a3a-8515-983b5056655c",
   "metadata": {},
   "outputs": [],
   "source": [
    "reduction_size = [32, 64, 128, 256, 512]\n",
    "PLCC_kfold_ave = [0.8375, 0.8515, 0.8539, 0.8601, 0.8611]\n",
    "PLCC_kfold_ave = [0.8375, 0.8515, 0.8539, 0.8601, 0.8611]\n",
    "PLCC_kfold_ave = [0.8375, 0.8515, 0.8539, 0.8601, 0.8611]"
   ]
  }
 ],
 "metadata": {
  "kernelspec": {
   "display_name": "Python 3 (ipykernel)",
   "language": "python",
   "name": "python3"
  },
  "language_info": {
   "codemirror_mode": {
    "name": "ipython",
    "version": 3
   },
   "file_extension": ".py",
   "mimetype": "text/x-python",
   "name": "python",
   "nbconvert_exporter": "python",
   "pygments_lexer": "ipython3",
   "version": "3.8.16"
  }
 },
 "nbformat": 4,
 "nbformat_minor": 5
}
